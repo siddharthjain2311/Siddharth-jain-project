{
  "nbformat": 4,
  "nbformat_minor": 0,
  "metadata": {
    "colab": {
      "name": "siddharth_jain_project.ipynb",
      "provenance": [],
      "collapsed_sections": [],
      "authorship_tag": "ABX9TyNDsB8cWutq7svb11HvtfLH",
      "include_colab_link": true
    },
    "kernelspec": {
      "name": "python3",
      "display_name": "Python 3"
    },
    "language_info": {
      "name": "python"
    }
  },
  "cells": [
    {
      "cell_type": "markdown",
      "metadata": {
        "id": "view-in-github",
        "colab_type": "text"
      },
      "source": [
        "<a href=\"https://colab.research.google.com/github/siddharthjain2311/Siddharth-jain-project/blob/main/siddharth_jain_project.ipynb\" target=\"_parent\"><img src=\"https://colab.research.google.com/assets/colab-badge.svg\" alt=\"Open In Colab\"/></a>"
      ]
    },
    {
      "cell_type": "code",
      "metadata": {
        "colab": {
          "base_uri": "https://localhost:8080/"
        },
        "id": "fEvO3jmYzeF6",
        "outputId": "5b4b1e21-c2d1-498c-915c-42ae22365ade"
      },
      "source": [
        "text = 'Hi'\n",
        "\n",
        "import hashlib\n",
        "m = hashlib.md5()\n",
        "m.update(text.encode('utf-8'))\n",
        "print(m.hexdigest())"
      ],
      "execution_count": 7,
      "outputs": [
        {
          "output_type": "stream",
          "text": [
            "c1a5298f939e87e8f962a5edfc206918\n"
          ],
          "name": "stdout"
        }
      ]
    },
    {
      "cell_type": "code",
      "metadata": {
        "colab": {
          "base_uri": "https://localhost:8080/"
        },
        "id": "nnSLP09H3J3H",
        "outputId": "1d326fec-785a-46b9-a6f5-142066a37377"
      },
      "source": [
        "text = 'Siddharth'\n",
        "\n",
        "import hashlib\n",
        "x = hashlib.blake2b()\n",
        "x.update(text.encode('utf-8'))\n",
        "\n",
        "import hashlib\n",
        "n = hashlib.sha256()\n",
        "n.update(text.encode('utf-8'))\n",
        "\n",
        "import hashlib\n",
        "z = hashlib.sha224()\n",
        "z.update(text.encode('utf-8'))\n",
        "\n",
        "\n",
        "print(x.hexdigest())\n",
        "print(n.hexdigest())\n",
        "print(z.hexdigest())"
      ],
      "execution_count": 16,
      "outputs": [
        {
          "output_type": "stream",
          "text": [
            "0cdd0a013c57133b3dd4b7357ec5a6d1db56b07d8c49760863a37c395caa7342cf2181e9755b49866c49335303a40e32b522284b023692ae073017aa7e2e5d1b\n",
            "d0f00cc81e15ada37518c70fb71935e4615fb88d4ba1cbd5b1abb01f429abca4\n",
            "ca9fe98c24b00f00804775464964362f0453a80271540d3f272ec4a5\n"
          ],
          "name": "stdout"
        }
      ]
    },
    {
      "cell_type": "code",
      "metadata": {
        "colab": {
          "base_uri": "https://localhost:8080/"
        },
        "id": "i5JzCLZ17sM3",
        "outputId": "1ff972d3-26dc-4005-86b4-48d9c2fffc5f"
      },
      "source": [
        "text = 'Siddharth'\n",
        "\n",
        "import hashlib\n",
        "import os\n",
        "\n",
        "salt=os.urandom(32)\n",
        "x = hashlib.blake2b()\n",
        "x.update(text.encode('utf-8'))\n",
        "x.update(salt)\n",
        "\n",
        "import hashlib\n",
        "import os\n",
        "\n",
        "salt=os.urandom(32)\n",
        "n = hashlib.sha256()\n",
        "n.update(text.encode('utf-8'))\n",
        "n.update(salt)\n",
        "\n",
        "import hashlib\n",
        "import os\n",
        "\n",
        "salt=os.urandom(32)\n",
        "z = hashlib.sha224()\n",
        "z.update(text.encode('utf-8'))\n",
        "z.update(salt)\n",
        "\n",
        "\n",
        "print(x.hexdigest())\n",
        "print(n.hexdigest())\n",
        "print(z.hexdigest())"
      ],
      "execution_count": 27,
      "outputs": [
        {
          "output_type": "stream",
          "text": [
            "cbc2ec13037136e7750116e92866cba5362ad2a7ac2f3207c0505f32166164381af5a342be1fae24497fee2e7818f9496e24269946eb0fa16d9caa3994ad594a\n",
            "c21f96e1495c76bdf977f3998ba875486636c06dfe67c005d64b599ca4534536\n",
            "f5e7433f04a0282b92abb2e97eda6bd83bf822c928bcdb318f8b840d\n"
          ],
          "name": "stdout"
        }
      ]
    }
  ]
}